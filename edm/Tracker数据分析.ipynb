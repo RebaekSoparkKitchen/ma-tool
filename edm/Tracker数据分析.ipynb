{
 "cells": [
  {
   "cell_type": "code",
   "execution_count": 2,
   "metadata": {},
   "outputs": [],
   "source": [
    "from Clean_df import EDM\n",
    "import pandas as pd\n",
    "import datetime\n",
    "import numpy as np"
   ]
  },
  {
   "cell_type": "code",
   "execution_count": 3,
   "metadata": {},
   "outputs": [
    {
     "name": "stderr",
     "output_type": "stream",
     "text": [
      "C:\\Users\\C5293427\\Desktop\\research\\EDM\\Clean_df.py:56: SettingWithCopyWarning: \n",
      "A value is trying to be set on a copy of a slice from a DataFrame.\n",
      "Try using .loc[row_indexer,col_indexer] = value instead\n",
      "\n",
      "See the caveats in the documentation: http://pandas.pydata.org/pandas-docs/stable/user_guide/indexing.html#returning-a-view-versus-a-copy\n",
      "  df['weekday'] = df['Launch Date'].apply(lambda x: self.turn_weekday(x))\n"
     ]
    }
   ],
   "source": [
    "t_path = r'C:\\Users\\C5293427\\Desktop\\MA\\Request_Tracker.xlsx'\n",
    "s_path = r'C:\\Users\\C5293427\\Desktop\\MA\\Simple_Tracker_V3.xlsx'\n",
    "EDM_file = EDM(t_path)\n",
    "df = EDM_file.clean_date()"
   ]
  },
  {
   "cell_type": "code",
   "execution_count": 51,
   "metadata": {},
   "outputs": [],
   "source": [
    "str_p = '2020-04-01'\n",
    "date_p = datetime.datetime.strptime(str_p,'%Y-%m-%d').date()\n",
    "str_end = '2020-04-30'\n",
    "date_end = datetime.datetime.strptime(str_end,'%Y-%m-%d').date()"
   ]
  },
  {
   "cell_type": "code",
   "execution_count": 5,
   "metadata": {},
   "outputs": [],
   "source": [
    "def byMonth(year, month):\n",
    "    str_p = str(year) +'-'+ str(month) + '-' + '1'\n",
    "    date_p = datetime.datetime.strptime(str_p,'%Y-%m-%d').date()\n",
    "    if month == 12:\n",
    "        str_end = str(year+1) + '-' + '1' + '-' + '1'\n",
    "        date_end = datetime.datetime.strptime(str_end,'%Y-%m-%d').date()\n",
    "    else: \n",
    "        str_end = str(year) + '-' + str(month+1) + '-' + '1'\n",
    "        date_end = datetime.datetime.strptime(str_end,'%Y-%m-%d').date()\n",
    "    df1 = df[(df['Launch Date']>date_p) & (df['Launch Date']<date_end)]\n",
    "    return len(df1)"
   ]
  },
  {
   "cell_type": "code",
   "execution_count": 7,
   "metadata": {},
   "outputs": [
    {
     "name": "stdout",
     "output_type": "stream",
     "text": [
      "[11, 11, 12, 18, 27, 17, 8, 30, 26, 24, 25, 26]\n"
     ]
    }
   ],
   "source": [
    "a = []\n",
    "for i in range(1,13):\n",
    "    a.append(byMonth(2019,i))\n",
    "print(a)"
   ]
  },
  {
   "cell_type": "code",
   "execution_count": 53,
   "metadata": {},
   "outputs": [
    {
     "data": {
      "text/plain": [
       "45"
      ]
     },
     "execution_count": 53,
     "metadata": {},
     "output_type": "execute_result"
    }
   ],
   "source": [
    "len(df)"
   ]
  },
  {
   "cell_type": "code",
   "execution_count": 27,
   "metadata": {},
   "outputs": [],
   "source": [
    "p1 = pd.pivot_table(df,index=[\"Team\"] ,aggfunc='count')"
   ]
  },
  {
   "cell_type": "code",
   "execution_count": 7,
   "metadata": {},
   "outputs": [
    {
     "data": {
      "text/plain": [
       "Team\n",
       "Ariba           4\n",
       "CX              4\n",
       "DBS             2\n",
       "DG              3\n",
       "Digital         4\n",
       "GB             41\n",
       "HongKong       25\n",
       "Industry       25\n",
       "Solution&SI    22\n",
       "TW              9\n",
       "Name: Campaign Name, dtype: int64"
      ]
     },
     "execution_count": 7,
     "metadata": {},
     "output_type": "execute_result"
    }
   ],
   "source": [
    "p1['Campaign Name']"
   ]
  },
  {
   "cell_type": "code",
   "execution_count": 28,
   "metadata": {},
   "outputs": [],
   "source": [
    "def distribution(df, attr):\n",
    "    p = pd.pivot_table(df,index=[attr] ,aggfunc='count')\n",
    "    \n",
    "    p1 = pd.pivot_table(df,index=[attr] ,aggfunc='sum')\n",
    "    p2 = p1[['Delivered', 'Opened', 'Click']]\n",
    "    p2['Open rate'] = p2['Opened'] / p2['Delivered']\n",
    "    p2['CTR'] = p2['Click'] / p2['Delivered']\n",
    "    d = pd.merge(p['Campaign Name'], p2 , on = p.index)\n",
    "    d.to_excel('C:/Users/C5293427/Desktop/Data_analysis/20200421cuirui/' + attr + '.xlsx', index=False)\n",
    "    return"
   ]
  },
  {
   "cell_type": "code",
   "execution_count": 29,
   "metadata": {},
   "outputs": [
    {
     "name": "stderr",
     "output_type": "stream",
     "text": [
      "C:\\ProgramData\\Anaconda3\\lib\\site-packages\\ipykernel_launcher.py:6: SettingWithCopyWarning: \n",
      "A value is trying to be set on a copy of a slice from a DataFrame.\n",
      "Try using .loc[row_indexer,col_indexer] = value instead\n",
      "\n",
      "See the caveats in the documentation: http://pandas.pydata.org/pandas-docs/stable/user_guide/indexing.html#returning-a-view-versus-a-copy\n",
      "  \n",
      "C:\\ProgramData\\Anaconda3\\lib\\site-packages\\ipykernel_launcher.py:7: SettingWithCopyWarning: \n",
      "A value is trying to be set on a copy of a slice from a DataFrame.\n",
      "Try using .loc[row_indexer,col_indexer] = value instead\n",
      "\n",
      "See the caveats in the documentation: http://pandas.pydata.org/pandas-docs/stable/user_guide/indexing.html#returning-a-view-versus-a-copy\n",
      "  import sys\n"
     ]
    }
   ],
   "source": [
    "for i in ['MU', 'Team','Owner ', 'Request Type']:\n",
    "    distribution(df, i)"
   ]
  },
  {
   "cell_type": "code",
   "execution_count": 54,
   "metadata": {},
   "outputs": [],
   "source": [
    "str_p = '2020-03-01'\n",
    "date_1 = datetime.datetime.strptime(str_p,'%Y-%m-%d').date()\n",
    "str_end = '2020-03-20'\n",
    "date_2 = datetime.datetime.strptime(str_end,'%Y-%m-%d').date()"
   ]
  },
  {
   "cell_type": "code",
   "execution_count": 55,
   "metadata": {},
   "outputs": [
    {
     "data": {
      "text/plain": [
       "Campaign Name                   56\n",
       "Wave                            15\n",
       "CC                               0\n",
       "CRM Campaign code                0\n",
       "Request Type                    56\n",
       "MU                              56\n",
       "Team                            56\n",
       "Owner                           56\n",
       "Reminder                         0\n",
       "Event Date                      49\n",
       "Campaign ID                     34\n",
       "Seg Module ID                    0\n",
       "Target Group Size                0\n",
       "Launch Date                     56\n",
       "Status                           0\n",
       "Comments                         0\n",
       "Report Sent                      0\n",
       "Sent                            28\n",
       "Delivered                       28\n",
       "Opened                          28\n",
       "Soft Bounce                     28\n",
       "Hard Bounce                     26\n",
       "Click                           27\n",
       "Unique Click                    27\n",
       "Communication Limits Reached     0\n",
       "Open Rate                        0\n",
       "Bounce Rate                      0\n",
       "Hard Bource Rate                 0\n",
       "CTR                              0\n",
       "Unique CTR                       0\n",
       "Click to Open Rate               0\n",
       "Report Date                      1\n",
       "Registration                     0\n",
       "Attendee                         0\n",
       "LEAD                             0\n",
       "MNP                              0\n",
       "Remark of Result                 0\n",
       "weekday                         56\n",
       "dtype: int64"
      ]
     },
     "execution_count": 55,
     "metadata": {},
     "output_type": "execute_result"
    }
   ],
   "source": [
    "df[(df['Launch Date']>date_1) & (df['Launch Date']<date_2)].count()"
   ]
  },
  {
   "cell_type": "code",
   "execution_count": 58,
   "metadata": {},
   "outputs": [],
   "source": [
    "def open_rate(df, attr):\n",
    "    p = pd.pivot_table(df,index=[attr] ,aggfunc='sum')\n",
    "    p['total_open_rate'] = p['Opened']/p['Delivered']\n",
    "    p['total_open_rate'].to_excel('C:/Users/C5293427/Desktop/Data_analysis/20200320cuirui/' + attr + '.xlsx')\n",
    "    return"
   ]
  },
  {
   "cell_type": "code",
   "execution_count": 61,
   "metadata": {},
   "outputs": [],
   "source": [
    "for i in ['weekday']:\n",
    "    distribution(df, i)"
   ]
  },
  {
   "cell_type": "code",
   "execution_count": null,
   "metadata": {},
   "outputs": [],
   "source": []
  }
 ],
 "metadata": {
  "kernelspec": {
   "display_name": "Python 3",
   "language": "python",
   "name": "python3"
  },
  "language_info": {
   "codemirror_mode": {
    "name": "ipython",
    "version": 3
   },
   "file_extension": ".py",
   "mimetype": "text/x-python",
   "name": "python",
   "nbconvert_exporter": "python",
   "pygments_lexer": "ipython3",
   "version": "3.7.4"
  }
 },
 "nbformat": 4,
 "nbformat_minor": 2
}
